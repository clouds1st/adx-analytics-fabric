{
 "cells": [
  {
   "cell_type": "code",
   "execution_count": 1,
   "metadata": {},
   "outputs": [],
   "source": [
    "import pyodbc \n",
    "from datetime import datetime, timedelta\n",
    "from dotenv import load_dotenv\n",
    "import os\n",
    "\n",
    "load_dotenv()\n",
    "SQL_SERVER = os.getenv(\"SQL_SERVER\")\n",
    "SQL_USER = os.getenv(\"SQL_USER\")\n",
    "SQL_PWD = os.getenv(\"SQL_PWD\")\n",
    "\n",
    "SQL_DBNAME=\"aworks\"\n",
    "SQL_DRIVER = \"ODBC Driver 18 for SQL Server\"\n",
    "\n",
    "connectionString = f'DRIVER={SQL_DRIVER};SERVER={SQL_SERVER};DATABASE={SQL_DBNAME};UID={SQL_USER};PWD={SQL_PWD}'\n",
    "conn = pyodbc.connect(connectionString)\n",
    "\n",
    "cursor = conn.cursor()"
   ]
  },
  {
   "cell_type": "code",
   "execution_count": null,
   "metadata": {},
   "outputs": [],
   "source": [
    "import pandas as pd \n",
    "from faker import Faker\n",
    "from datetime import datetime, timedelta\n",
    "\n",
    "f = Faker()\n",
    "\n",
    "sql_query = pd.read_sql_query ('SELECT SalesOrderID FROM [SalesLT].[SalesOrderHeader]', conn)\n",
    "\n",
    "df = pd.DataFrame(sql_query, columns = ['SalesOrderID'])\n",
    "for index, row in df.iterrows():\n",
    "    orderId = row['SalesOrderID']\n",
    "    orderDate = f.date_between_dates(date_start=datetime(2008,6,1), date_end=datetime(2008,6,30))\n",
    "    dueDate = orderDate + timedelta(days=14)\n",
    "    shipDate = f.date_between_dates(date_start=orderDate + timedelta(days=1), date_end=dueDate - timedelta(days=1))\n",
    "    # print(orderDate, dueDate, shipDate)\n",
    "    orderDT = orderDate.strftime(\"%m/%d/%Y %H:%M:%S\")\n",
    "    dueDT = dueDate.strftime(\"%m/%d/%Y %H:%M:%S\")\n",
    "    shipDT = shipDate.strftime(\"%m/%d/%Y %H:%M:%S\")\n",
    "    # print(orderDT, dueDT, shipDT)\n",
    "    query = f\"UPDATE [SalesLT].[SalesOrderHeader] SET OrderDate = '{orderDT}', DueDate = '{dueDT}', ShipDate = '{shipDT}' WHERE SalesOrderID = {orderId}\"\n",
    "    print(query)\n",
    "    cursor.execute(query)\n",
    "conn.commit()"
   ]
  },
  {
   "cell_type": "code",
   "execution_count": null,
   "metadata": {},
   "outputs": [],
   "source": [
    "orderDate = f.date_between_dates(date_start=datetime(2008,1,1), date_end=datetime(2008,1,16))\n",
    "dueDate = orderDate + timedelta(days=14)\n",
    "shipDate = f.date_between_dates(date_start=orderDate + timedelta(days=1), date_end=dueDate - timedelta(days=1))\n",
    "print(orderDate, dueDate, shipDate)"
   ]
  }
 ],
 "metadata": {
  "kernelspec": {
   "display_name": ".venv",
   "language": "python",
   "name": "python3"
  },
  "language_info": {
   "codemirror_mode": {
    "name": "ipython",
    "version": 3
   },
   "file_extension": ".py",
   "mimetype": "text/x-python",
   "name": "python",
   "nbconvert_exporter": "python",
   "pygments_lexer": "ipython3",
   "version": "3.10.11"
  },
  "orig_nbformat": 4
 },
 "nbformat": 4,
 "nbformat_minor": 2
}
