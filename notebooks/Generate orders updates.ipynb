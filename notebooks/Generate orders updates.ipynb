{
 "cells": [
  {
   "cell_type": "code",
   "execution_count": 2,
   "metadata": {},
   "outputs": [],
   "source": [
    "import pyodbc \n",
    "import os\n",
    "\n",
    "SQL_SERVER=\"<your sql server name>.database.windows.net\"\n",
    "SQL_USER=\"SqlAdmin\"\n",
    "SQL_PWD=\"ChangeYourAdminPassword1\"\n",
    "SQL_DBNAME=\"aworks\"\n",
    "SQL_DRIVER = \"ODBC Driver 18 for SQL Server\"\n",
    "\n",
    "connectionString = f'DRIVER={SQL_DRIVER};SERVER={SQL_SERVER};DATABASE={SQL_DBNAME};UID={SQL_USER};PWD={SQL_PWD}'\n",
    "conn = pyodbc.connect(connectionString)\n",
    "\n",
    "cursor = conn.cursor()\n",
    "\n",
    "cursor.execute('''\n",
    "                UPDATE [SalesLT].[SalesOrderDetail]\n",
    "                SET OrderQty = 20, ModifiedDate = CURRENT_TIMESTAMP\n",
    "                WHERE SalesOrderDetailID = 110562\n",
    "                ''')\n",
    "\n",
    "conn.commit()"
   ]
  }
 ],
 "metadata": {
  "kernelspec": {
   "display_name": ".venv",
   "language": "python",
   "name": "python3"
  },
  "language_info": {
   "codemirror_mode": {
    "name": "ipython",
    "version": 3
   },
   "file_extension": ".py",
   "mimetype": "text/x-python",
   "name": "python",
   "nbconvert_exporter": "python",
   "pygments_lexer": "ipython3",
   "version": "3.10.11"
  },
  "orig_nbformat": 4
 },
 "nbformat": 4,
 "nbformat_minor": 2
}
